{
 "cells": [
  {
   "cell_type": "markdown",
   "id": "886f924e-0a42-4a5d-8a8b-78d6fb4ad260",
   "metadata": {},
   "source": [
    "# Automatically calculate detectability index on a Catphan Series\n",
    "1. Check the phantom localisation."
   ]
  },
  {
   "cell_type": "code",
   "execution_count": null,
   "id": "23fd6aed-4a7e-49f5-a530-e5777ebdb3a8",
   "metadata": {},
   "outputs": [],
   "source": [
    "from pyct.series import AxialSeries\n",
    "from pyct.catphan700.localisation import locate_all_segments, visualise_segments\n",
    "\n",
    "# Load the CT series into an AxialSeries object\n",
    "ctseries = AxialSeries('test_series/')\n",
    "ctarray = ctseries.get_array()\n",
    "catphan_segments = locate_all_segments(\n",
    "    ctarray,\n",
    "    ctseries.slice_locations,\n",
    "    ctseries.orientation,\n",
    ")\n",
    "visualise_segments(\n",
    "    ctarray, \n",
    "    ctseries.slice_locations, \n",
    "    catphan_segments, \n",
    "    ctseries.pixel_size\n",
    ")"
   ]
  },
  {
   "cell_type": "markdown",
   "id": "396df217-ce56-4dc2-9fa6-01b96c12f06a",
   "metadata": {},
   "source": [
    "Calculate the detectability, the input to the function is the string or Path that contains the DICOM series."
   ]
  },
  {
   "cell_type": "code",
   "execution_count": null,
   "id": "8dca0fff-091f-4f47-a0b5-1559af36b4f8",
   "metadata": {},
   "outputs": [],
   "source": [
    "from pyct.catphan700.pipeline_detectability import catphan700_auto_detectability\n",
    "results_dict = catphan700_auto_detectability('test_series/')\n",
    "print(results_dict.keys())"
   ]
  },
  {
   "cell_type": "markdown",
   "id": "9a105a70-00cf-4a5e-a96e-2c2504b9eb78",
   "metadata": {},
   "source": [
    "results_dict is a dictionary of DetectabilityResult objects, which can be queried to retrieve metadata used to calculate the detectability index. These metadata include the TTF and NPS.\n",
    "\n",
    "# Plot TTF and NPS"
   ]
  },
  {
   "cell_type": "code",
   "execution_count": null,
   "id": "6585e776-d598-4aa0-a502-a5590b3d6587",
   "metadata": {},
   "outputs": [],
   "source": [
    "import matplotlib.pyplot as plt\n",
    "test_material = 'Bone50'\n",
    "detectability_result = results_dict[test_material]\n",
    "print('Detectability:', detectability_result.d)\n",
    "ttf_result = detectability_result.ttf\n",
    "nps_result = detectability_result.nps\n",
    "\n",
    "fig, (ax1, ax2) = plt.subplots(2, 1)\n",
    "fig.set_size_inches(10, 8)\n",
    "ax1.plot(ttf_result.f, ttf_result.ttf)\n",
    "ax1.set_xlim(0, 1.5)\n",
    "ax1.set_title(f'{test_material} TTF')\n",
    "\n",
    "ax2.plot(nps_result.f, nps_result.nps)\n",
    "ax2.set_title(f'{test_material} NPS')\n",
    "plt.show()"
   ]
  },
  {
   "cell_type": "markdown",
   "id": "7e3e92ad-bddf-4324-a986-add2db450322",
   "metadata": {},
   "source": [
    "The TTF and NPS results objects can be further queried for summary statistics"
   ]
  },
  {
   "cell_type": "code",
   "execution_count": null,
   "id": "6e503568-5f7e-49f1-a987-9a95c4d35f15",
   "metadata": {},
   "outputs": [],
   "source": [
    "print('TTF f10:', ttf_result.f10)\n",
    "print('TTF f50:', ttf_result.f50)\n",
    "print('NPS favg:', nps_result.favg)\n",
    "print('NPS fpeak:', nps_result.fpeak)"
   ]
  },
  {
   "cell_type": "code",
   "execution_count": null,
   "id": "420aa877-7149-47ab-bd67-32332f020af7",
   "metadata": {},
   "outputs": [],
   "source": []
  }
 ],
 "metadata": {
  "kernelspec": {
   "display_name": "Python 3 (ipykernel)",
   "language": "python",
   "name": "python3"
  },
  "language_info": {
   "codemirror_mode": {
    "name": "ipython",
    "version": 3
   },
   "file_extension": ".py",
   "mimetype": "text/x-python",
   "name": "python",
   "nbconvert_exporter": "python",
   "pygments_lexer": "ipython3",
   "version": "3.13.4"
  }
 },
 "nbformat": 4,
 "nbformat_minor": 5
}
